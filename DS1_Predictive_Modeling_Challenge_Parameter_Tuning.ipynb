{
  "nbformat": 4,
  "nbformat_minor": 0,
  "metadata": {
    "colab": {
      "name": "DS1 Predictive Modeling Challenge Parameter Tuning.ipynb",
      "version": "0.3.2",
      "provenance": [],
      "collapsed_sections": [],
      "include_colab_link": true
    },
    "kernelspec": {
      "name": "python3",
      "display_name": "Python 3"
    }
  },
  "cells": [
    {
      "cell_type": "markdown",
      "metadata": {
        "id": "view-in-github",
        "colab_type": "text"
      },
      "source": [
        "<a href=\"https://colab.research.google.com/github/ShreyasJothish/blognotebooks/blob/master/DS1_Predictive_Modeling_Challenge_Parameter_Tuning.ipynb\" target=\"_parent\"><img src=\"https://colab.research.google.com/assets/colab-badge.svg\" alt=\"Open In Colab\"/></a>"
      ]
    },
    {
      "metadata": {
        "id": "EFmO0jeY8dFj",
        "colab_type": "code",
        "colab": {}
      },
      "cell_type": "code",
      "source": [
        "# Load the data from Kaggle\n",
        "!pip install kaggle\n",
        "\n",
        "# Upgrade the version of Seaborn\n",
        "!pip install -U seaborn\n",
        "\n",
        "# Install category_encoders\n",
        "!pip install category_encoders"
      ],
      "execution_count": 0,
      "outputs": []
    },
    {
      "metadata": {
        "id": "IkQErr7h8_aw",
        "colab_type": "code",
        "colab": {}
      },
      "cell_type": "code",
      "source": [
        "# Mount the drive to download the data from Kaggle\n",
        "from google.colab import drive\n",
        "drive.mount('/content/drive')\n",
        "%env KAGGLE_CONFIG_DIR=/content/drive/My Drive\n",
        "\n",
        "!kaggle competitions download -c ds1-predictive-modeling-challenge"
      ],
      "execution_count": 0,
      "outputs": []
    },
    {
      "metadata": {
        "id": "8_qQhIIXNNzR",
        "colab_type": "code",
        "colab": {}
      },
      "cell_type": "code",
      "source": [
        "# Extract the csv files\n",
        "!unzip train_features.csv.zip \n",
        "!unzip train_labels.csv.zip \n",
        "!unzip test_features.csv.zip"
      ],
      "execution_count": 0,
      "outputs": []
    },
    {
      "metadata": {
        "id": "A6yHzH9E9J8d",
        "colab_type": "code",
        "colab": {}
      },
      "cell_type": "code",
      "source": [
        "# Generic imports\n",
        "import pandas as pd\n",
        "import numpy as np\n",
        "import matplotlib.pyplot as plt\n",
        "import seaborn as sns"
      ],
      "execution_count": 0,
      "outputs": []
    },
    {
      "metadata": {
        "id": "hyAcKkIi9TLE",
        "colab_type": "code",
        "colab": {}
      },
      "cell_type": "code",
      "source": [
        "# Loading the independent features as X and\n",
        "# dependent variable as y\n",
        "nan_values_list = ['Not Known', 'Unknown', 'None', 'Not known', 'not known', \n",
        "                   '-', 'unknown', 'Unknown Installer', '##', 'none']\n",
        "\n",
        "train_features_df = pd.read_csv('train_features.csv', na_values=nan_values_list)\n",
        "train_labels_df = pd.read_csv('train_labels.csv')\n"
      ],
      "execution_count": 0,
      "outputs": []
    },
    {
      "metadata": {
        "id": "xJkIZMC898DR",
        "colab_type": "code",
        "colab": {}
      },
      "cell_type": "code",
      "source": [
        "def atleast(row, value_count_series, count=5):\n",
        "  # Identify items who have funded atleast 5 pumps\n",
        "  if str(row) == \"nan\":\n",
        "    return np.nan\n",
        "  \n",
        "  value_count = value_count_series.get(row)\n",
        "  \n",
        "  if value_count < count:\n",
        "    return 0\n",
        "  else:\n",
        "    return 1\n",
        "\n",
        "def character_grouping(row):\n",
        "  # Reduce the dimension based on 1st character else return *\n",
        "  if str(row) == \"nan\":\n",
        "    return np.nan\n",
        "  \n",
        "  if row[0].isalpha():\n",
        "    return row[0].lower()\n",
        "  else:\n",
        "    return \"*\"\n",
        "  \n",
        "def classify_lga(row):\n",
        "  # Classify lga into Rural, Urban and others\n",
        "  if str(row) == \"nan\":\n",
        "    return np.nan\n",
        "  \n",
        "  if row.lower().find('rural'):\n",
        "    return \"rural\"\n",
        "  elif row.lower().find('urban'):\n",
        "    return \"urban\"\n",
        "  else:\n",
        "    return \"other\"\n",
        "  \n",
        "def prefix_grouping(row, prefix_count=3):\n",
        "  # Reduce the dimension based on 1st character else return *\n",
        "  if str(row) == \"nan\":\n",
        "    return np.nan\n",
        "  \n",
        "  if prefix_count > len(row):\n",
        "    return \"#\"\n",
        "  \n",
        "  if row[0:prefix_count].isalpha():\n",
        "    return row[0:prefix_count].lower()\n",
        "  else:\n",
        "    return \"*\"\n",
        "  \n",
        "def map_ward_construction_year(input_df):\n",
        "  # Map ward to construction year\n",
        "  \n",
        "  # Here train_features_df shall be used as reference for\n",
        "  # both trainging and test data set.\n",
        "  df = input_df.copy()\n",
        "  \n",
        "  ward_construction_year_dict = {}\n",
        "  ward_list = df['ward'].unique()\n",
        " \n",
        "  # top ward's construction year shall be used incase there is no\n",
        "  # matching construction year for individual ward.  \n",
        "  top_ward = df['ward'].describe().top\n",
        "  top_ward_construction_year =  \\\n",
        "    int(df[df['ward'] == top_ward]['construction_year'].median())\n",
        "\n",
        "  for ward in ward_list:\n",
        "    ward_construction_year = \\\n",
        "      int(df[df['ward'] == ward]['construction_year'].median())\n",
        "    \n",
        "    if ward not in ward_construction_year_dict:\\\n",
        "      \n",
        "      if ward_construction_year == 0:\n",
        "        ward_construction_year_dict[ward] = top_ward_construction_year\n",
        "      else:\n",
        "        ward_construction_year_dict[ward] = ward_construction_year\n",
        "  \n",
        "  return ward_construction_year_dict\n",
        "\n",
        "\n",
        "def compute_construction_year(row, ward_construction_year_dict, \n",
        "                              top_ward_construction_year):\n",
        "  # compute the consturction year if it is 0  \n",
        "  ward = row['ward']\n",
        "  construction_year = row['construction_year']  \n",
        "  \n",
        "  if construction_year == 0:\n",
        "    if ward in ward_construction_year_dict:\n",
        "      return ward_construction_year_dict[ward]\n",
        "    else:\n",
        "      return top_ward_construction_year\n",
        "  else:\n",
        "    return construction_year\n",
        "\n",
        "\n",
        "def compute_age(row):\n",
        "  # compute the consturction age\n",
        "  date_recorded = row['date_recorded']\n",
        "  year_recorded = int(date_recorded.split('-')[0])\n",
        "  \n",
        "  construction_year = row['construction_year']\n",
        "  \n",
        "  return (year_recorded - construction_year)\n",
        "\n",
        "\n",
        "def compute_year_recorded(row):\n",
        "  # split year from date_recorded\n",
        "  return int(row.split('-')[0])\n",
        "\n",
        "def compute_month_recorded(row):\n",
        "  # split year from date_recorded\n",
        "  return int(row.split('-')[1])"
      ],
      "execution_count": 0,
      "outputs": []
    },
    {
      "metadata": {
        "id": "yWE7Uq5H-F7Z",
        "colab_type": "code",
        "colab": {}
      },
      "cell_type": "code",
      "source": [
        "def feature_engineering(df):\n",
        "  # Create a column to indicate funder with atleast 5 pumps maintained.\n",
        "  value_count_funder = df.funder.value_counts()\n",
        "  df['funder_aleast_5'] = df['funder'].apply(atleast, \n",
        "                                            args=(value_count_funder,))\n",
        "  \n",
        "  # Create a column to indicate installer with atleast 5 pumps maintained.\n",
        "  value_count_installer = df.installer.value_counts()\n",
        "  df['installer_aleast_5'] = df['installer'].apply(atleast, \n",
        "                                            args=(value_count_installer,))\n",
        "  \n",
        "  # Apply mean for missing values of latitude and longitude\n",
        "  mean_longitude = df['longitude'].mean()\n",
        "  df['longitude'] = df['longitude'].apply(lambda x: mean_longitude if round(x, 2) == 0 else x)\n",
        "  mean_latitude = df['latitude'].mean()\n",
        "  df['latitude'] = df['latitude'].apply(lambda x: mean_latitude if round(x, 2) == 0 else x)\n",
        "  \n",
        "  # Grouping wpt_name, subvillage based on 1st alphabet\n",
        "  df['wpt_name_character_grouping'] = df['wpt_name'].apply(character_grouping)\n",
        "  df['subvillage_character_grouping'] = df['subvillage'].apply(character_grouping)\n",
        "  \n",
        "  # Classify lga based on Rural, Urban and others\n",
        "  df['lga_engineered'] = df['lga'].apply(classify_lga)\n",
        "  \n",
        "  # Grouping ward, scheme_name based on 1st alphabet\n",
        "  df['ward_character_grouping'] = df['ward'].apply(character_grouping)\n",
        "  df['scheme_name_character_grouping'] = df['scheme_name'].apply(character_grouping)\n",
        "  \n",
        "  \"\"\"\n",
        "  # Grouping based on prefix\n",
        "  df['funder_prefix_grouping'] = df['funder'].apply(prefix_grouping)\n",
        "  df['installer_prefix_grouping'] = df['installer'].apply(prefix_grouping)\n",
        "  df['wpt_name_prefix_grouping'] = df['wpt_name'].apply(prefix_grouping)\n",
        "  df['subvillage_prefix_grouping'] = df['subvillage'].apply(prefix_grouping)\n",
        "  df['lga_prefix_grouping'] = df['lga'].apply(prefix_grouping)\n",
        "  df['ward_prefix_grouping'] = df['ward'].apply(prefix_grouping)\n",
        "  df['scheme_name_prefix_grouping'] = df['scheme_name'].apply(prefix_grouping)\n",
        "  \"\"\"\n",
        "  \n",
        "  # Compute missing construction year\n",
        "  ward_construction_year_dict = map_ward_construction_year(df)\n",
        "  top_ward = df['ward'].describe().top\n",
        "  top_ward_construction_year =  \\\n",
        "    int(df[df['ward'] == top_ward]['construction_year'].median())\n",
        "  \n",
        "  df['construction_year'] = df.apply(compute_construction_year, axis=1, \n",
        "                                     args=(ward_construction_year_dict,\n",
        "                                          top_ward_construction_year,))\n",
        "  \n",
        "  # Compute age of well\n",
        "  df['age'] = df.apply(compute_age, axis=1)\n",
        "  \n",
        "  # Fetch Year and Month of date recorded\n",
        "  df['year_recorded'] = df['date_recorded'].apply(compute_year_recorded)\n",
        "  df['month_recorded'] = df['date_recorded'].apply(compute_month_recorded)\n",
        "\n",
        "feature_engineering(train_features_df)"
      ],
      "execution_count": 0,
      "outputs": []
    },
    {
      "metadata": {
        "id": "mG4VyQIT9gIe",
        "colab_type": "code",
        "colab": {}
      },
      "cell_type": "code",
      "source": [
        "# Selecting independent and dependent variables.\n",
        "\n",
        "X = train_features_df.drop(columns=['id', 'funder', 'installer', 'wpt_name', \n",
        "                                    'subvillage', 'lga','ward','scheme_name'])\n",
        "y = train_labels_df.status_group"
      ],
      "execution_count": 0,
      "outputs": []
    },
    {
      "metadata": {
        "id": "MN2TBHsWvGgT",
        "colab_type": "code",
        "outputId": "14c32f68-d6aa-41ce-f2aa-ba000ceeb1ee",
        "colab": {
          "base_uri": "https://localhost:8080/",
          "height": 413
        }
      },
      "cell_type": "code",
      "source": [
        "pd.set_option('display.max_columns', None)\n",
        "train_features_df.head()"
      ],
      "execution_count": 9,
      "outputs": [
        {
          "output_type": "execute_result",
          "data": {
            "text/html": [
              "<div>\n",
              "<style scoped>\n",
              "    .dataframe tbody tr th:only-of-type {\n",
              "        vertical-align: middle;\n",
              "    }\n",
              "\n",
              "    .dataframe tbody tr th {\n",
              "        vertical-align: top;\n",
              "    }\n",
              "\n",
              "    .dataframe thead th {\n",
              "        text-align: right;\n",
              "    }\n",
              "</style>\n",
              "<table border=\"1\" class=\"dataframe\">\n",
              "  <thead>\n",
              "    <tr style=\"text-align: right;\">\n",
              "      <th></th>\n",
              "      <th>id</th>\n",
              "      <th>amount_tsh</th>\n",
              "      <th>date_recorded</th>\n",
              "      <th>funder</th>\n",
              "      <th>gps_height</th>\n",
              "      <th>installer</th>\n",
              "      <th>longitude</th>\n",
              "      <th>latitude</th>\n",
              "      <th>wpt_name</th>\n",
              "      <th>num_private</th>\n",
              "      <th>basin</th>\n",
              "      <th>subvillage</th>\n",
              "      <th>region</th>\n",
              "      <th>region_code</th>\n",
              "      <th>district_code</th>\n",
              "      <th>lga</th>\n",
              "      <th>ward</th>\n",
              "      <th>population</th>\n",
              "      <th>public_meeting</th>\n",
              "      <th>recorded_by</th>\n",
              "      <th>scheme_management</th>\n",
              "      <th>scheme_name</th>\n",
              "      <th>permit</th>\n",
              "      <th>construction_year</th>\n",
              "      <th>extraction_type</th>\n",
              "      <th>extraction_type_group</th>\n",
              "      <th>extraction_type_class</th>\n",
              "      <th>management</th>\n",
              "      <th>management_group</th>\n",
              "      <th>payment</th>\n",
              "      <th>payment_type</th>\n",
              "      <th>water_quality</th>\n",
              "      <th>quality_group</th>\n",
              "      <th>quantity</th>\n",
              "      <th>quantity_group</th>\n",
              "      <th>source</th>\n",
              "      <th>source_type</th>\n",
              "      <th>source_class</th>\n",
              "      <th>waterpoint_type</th>\n",
              "      <th>waterpoint_type_group</th>\n",
              "      <th>funder_aleast_5</th>\n",
              "      <th>installer_aleast_5</th>\n",
              "      <th>wpt_name_character_grouping</th>\n",
              "      <th>subvillage_character_grouping</th>\n",
              "      <th>lga_engineered</th>\n",
              "      <th>ward_character_grouping</th>\n",
              "      <th>scheme_name_character_grouping</th>\n",
              "      <th>age</th>\n",
              "      <th>year_recorded</th>\n",
              "      <th>month_recorded</th>\n",
              "    </tr>\n",
              "  </thead>\n",
              "  <tbody>\n",
              "    <tr>\n",
              "      <th>0</th>\n",
              "      <td>69572</td>\n",
              "      <td>6000.0</td>\n",
              "      <td>2011-03-14</td>\n",
              "      <td>Roman</td>\n",
              "      <td>1390</td>\n",
              "      <td>Roman</td>\n",
              "      <td>34.938093</td>\n",
              "      <td>-9.856322</td>\n",
              "      <td>NaN</td>\n",
              "      <td>0</td>\n",
              "      <td>Lake Nyasa</td>\n",
              "      <td>Mnyusi B</td>\n",
              "      <td>Iringa</td>\n",
              "      <td>11</td>\n",
              "      <td>5</td>\n",
              "      <td>Ludewa</td>\n",
              "      <td>Mundindi</td>\n",
              "      <td>109</td>\n",
              "      <td>True</td>\n",
              "      <td>GeoData Consultants Ltd</td>\n",
              "      <td>VWC</td>\n",
              "      <td>Roman</td>\n",
              "      <td>False</td>\n",
              "      <td>1999</td>\n",
              "      <td>gravity</td>\n",
              "      <td>gravity</td>\n",
              "      <td>gravity</td>\n",
              "      <td>vwc</td>\n",
              "      <td>user-group</td>\n",
              "      <td>pay annually</td>\n",
              "      <td>annually</td>\n",
              "      <td>soft</td>\n",
              "      <td>good</td>\n",
              "      <td>enough</td>\n",
              "      <td>enough</td>\n",
              "      <td>spring</td>\n",
              "      <td>spring</td>\n",
              "      <td>groundwater</td>\n",
              "      <td>communal standpipe</td>\n",
              "      <td>communal standpipe</td>\n",
              "      <td>1.0</td>\n",
              "      <td>1.0</td>\n",
              "      <td>NaN</td>\n",
              "      <td>m</td>\n",
              "      <td>rural</td>\n",
              "      <td>m</td>\n",
              "      <td>r</td>\n",
              "      <td>12</td>\n",
              "      <td>2011</td>\n",
              "      <td>3</td>\n",
              "    </tr>\n",
              "    <tr>\n",
              "      <th>1</th>\n",
              "      <td>8776</td>\n",
              "      <td>0.0</td>\n",
              "      <td>2013-03-06</td>\n",
              "      <td>Grumeti</td>\n",
              "      <td>1399</td>\n",
              "      <td>GRUMETI</td>\n",
              "      <td>34.698766</td>\n",
              "      <td>-2.147466</td>\n",
              "      <td>Zahanati</td>\n",
              "      <td>0</td>\n",
              "      <td>Lake Victoria</td>\n",
              "      <td>Nyamara</td>\n",
              "      <td>Mara</td>\n",
              "      <td>20</td>\n",
              "      <td>2</td>\n",
              "      <td>Serengeti</td>\n",
              "      <td>Natta</td>\n",
              "      <td>280</td>\n",
              "      <td>NaN</td>\n",
              "      <td>GeoData Consultants Ltd</td>\n",
              "      <td>Other</td>\n",
              "      <td>NaN</td>\n",
              "      <td>True</td>\n",
              "      <td>2010</td>\n",
              "      <td>gravity</td>\n",
              "      <td>gravity</td>\n",
              "      <td>gravity</td>\n",
              "      <td>wug</td>\n",
              "      <td>user-group</td>\n",
              "      <td>never pay</td>\n",
              "      <td>never pay</td>\n",
              "      <td>soft</td>\n",
              "      <td>good</td>\n",
              "      <td>insufficient</td>\n",
              "      <td>insufficient</td>\n",
              "      <td>rainwater harvesting</td>\n",
              "      <td>rainwater harvesting</td>\n",
              "      <td>surface</td>\n",
              "      <td>communal standpipe</td>\n",
              "      <td>communal standpipe</td>\n",
              "      <td>1.0</td>\n",
              "      <td>1.0</td>\n",
              "      <td>z</td>\n",
              "      <td>n</td>\n",
              "      <td>rural</td>\n",
              "      <td>n</td>\n",
              "      <td>NaN</td>\n",
              "      <td>3</td>\n",
              "      <td>2013</td>\n",
              "      <td>3</td>\n",
              "    </tr>\n",
              "    <tr>\n",
              "      <th>2</th>\n",
              "      <td>34310</td>\n",
              "      <td>25.0</td>\n",
              "      <td>2013-02-25</td>\n",
              "      <td>Lottery Club</td>\n",
              "      <td>686</td>\n",
              "      <td>World vision</td>\n",
              "      <td>37.460664</td>\n",
              "      <td>-3.821329</td>\n",
              "      <td>Kwa Mahundi</td>\n",
              "      <td>0</td>\n",
              "      <td>Pangani</td>\n",
              "      <td>Majengo</td>\n",
              "      <td>Manyara</td>\n",
              "      <td>21</td>\n",
              "      <td>4</td>\n",
              "      <td>Simanjiro</td>\n",
              "      <td>Ngorika</td>\n",
              "      <td>250</td>\n",
              "      <td>True</td>\n",
              "      <td>GeoData Consultants Ltd</td>\n",
              "      <td>VWC</td>\n",
              "      <td>Nyumba ya mungu pipe scheme</td>\n",
              "      <td>True</td>\n",
              "      <td>2009</td>\n",
              "      <td>gravity</td>\n",
              "      <td>gravity</td>\n",
              "      <td>gravity</td>\n",
              "      <td>vwc</td>\n",
              "      <td>user-group</td>\n",
              "      <td>pay per bucket</td>\n",
              "      <td>per bucket</td>\n",
              "      <td>soft</td>\n",
              "      <td>good</td>\n",
              "      <td>enough</td>\n",
              "      <td>enough</td>\n",
              "      <td>dam</td>\n",
              "      <td>dam</td>\n",
              "      <td>surface</td>\n",
              "      <td>communal standpipe multiple</td>\n",
              "      <td>communal standpipe</td>\n",
              "      <td>1.0</td>\n",
              "      <td>1.0</td>\n",
              "      <td>k</td>\n",
              "      <td>m</td>\n",
              "      <td>rural</td>\n",
              "      <td>n</td>\n",
              "      <td>n</td>\n",
              "      <td>4</td>\n",
              "      <td>2013</td>\n",
              "      <td>2</td>\n",
              "    </tr>\n",
              "    <tr>\n",
              "      <th>3</th>\n",
              "      <td>67743</td>\n",
              "      <td>0.0</td>\n",
              "      <td>2013-01-28</td>\n",
              "      <td>Unicef</td>\n",
              "      <td>263</td>\n",
              "      <td>UNICEF</td>\n",
              "      <td>38.486161</td>\n",
              "      <td>-11.155298</td>\n",
              "      <td>Zahanati Ya Nanyumbu</td>\n",
              "      <td>0</td>\n",
              "      <td>Ruvuma / Southern Coast</td>\n",
              "      <td>Mahakamani</td>\n",
              "      <td>Mtwara</td>\n",
              "      <td>90</td>\n",
              "      <td>63</td>\n",
              "      <td>Nanyumbu</td>\n",
              "      <td>Nanyumbu</td>\n",
              "      <td>58</td>\n",
              "      <td>True</td>\n",
              "      <td>GeoData Consultants Ltd</td>\n",
              "      <td>VWC</td>\n",
              "      <td>NaN</td>\n",
              "      <td>True</td>\n",
              "      <td>1986</td>\n",
              "      <td>submersible</td>\n",
              "      <td>submersible</td>\n",
              "      <td>submersible</td>\n",
              "      <td>vwc</td>\n",
              "      <td>user-group</td>\n",
              "      <td>never pay</td>\n",
              "      <td>never pay</td>\n",
              "      <td>soft</td>\n",
              "      <td>good</td>\n",
              "      <td>dry</td>\n",
              "      <td>dry</td>\n",
              "      <td>machine dbh</td>\n",
              "      <td>borehole</td>\n",
              "      <td>groundwater</td>\n",
              "      <td>communal standpipe multiple</td>\n",
              "      <td>communal standpipe</td>\n",
              "      <td>1.0</td>\n",
              "      <td>1.0</td>\n",
              "      <td>z</td>\n",
              "      <td>m</td>\n",
              "      <td>rural</td>\n",
              "      <td>n</td>\n",
              "      <td>NaN</td>\n",
              "      <td>27</td>\n",
              "      <td>2013</td>\n",
              "      <td>1</td>\n",
              "    </tr>\n",
              "    <tr>\n",
              "      <th>4</th>\n",
              "      <td>19728</td>\n",
              "      <td>0.0</td>\n",
              "      <td>2011-07-13</td>\n",
              "      <td>Action In A</td>\n",
              "      <td>0</td>\n",
              "      <td>Artisan</td>\n",
              "      <td>31.130847</td>\n",
              "      <td>-1.825359</td>\n",
              "      <td>Shuleni</td>\n",
              "      <td>0</td>\n",
              "      <td>Lake Victoria</td>\n",
              "      <td>Kyanyamisa</td>\n",
              "      <td>Kagera</td>\n",
              "      <td>18</td>\n",
              "      <td>1</td>\n",
              "      <td>Karagwe</td>\n",
              "      <td>Nyakasimbi</td>\n",
              "      <td>0</td>\n",
              "      <td>True</td>\n",
              "      <td>GeoData Consultants Ltd</td>\n",
              "      <td>NaN</td>\n",
              "      <td>NaN</td>\n",
              "      <td>True</td>\n",
              "      <td>2004</td>\n",
              "      <td>gravity</td>\n",
              "      <td>gravity</td>\n",
              "      <td>gravity</td>\n",
              "      <td>other</td>\n",
              "      <td>other</td>\n",
              "      <td>never pay</td>\n",
              "      <td>never pay</td>\n",
              "      <td>soft</td>\n",
              "      <td>good</td>\n",
              "      <td>seasonal</td>\n",
              "      <td>seasonal</td>\n",
              "      <td>rainwater harvesting</td>\n",
              "      <td>rainwater harvesting</td>\n",
              "      <td>surface</td>\n",
              "      <td>communal standpipe</td>\n",
              "      <td>communal standpipe</td>\n",
              "      <td>0.0</td>\n",
              "      <td>1.0</td>\n",
              "      <td>s</td>\n",
              "      <td>k</td>\n",
              "      <td>rural</td>\n",
              "      <td>n</td>\n",
              "      <td>NaN</td>\n",
              "      <td>7</td>\n",
              "      <td>2011</td>\n",
              "      <td>7</td>\n",
              "    </tr>\n",
              "  </tbody>\n",
              "</table>\n",
              "</div>"
            ],
            "text/plain": [
              "      id  amount_tsh date_recorded        funder  gps_height     installer  \\\n",
              "0  69572      6000.0    2011-03-14         Roman        1390         Roman   \n",
              "1   8776         0.0    2013-03-06       Grumeti        1399       GRUMETI   \n",
              "2  34310        25.0    2013-02-25  Lottery Club         686  World vision   \n",
              "3  67743         0.0    2013-01-28        Unicef         263        UNICEF   \n",
              "4  19728         0.0    2011-07-13   Action In A           0       Artisan   \n",
              "\n",
              "   longitude   latitude              wpt_name  num_private  \\\n",
              "0  34.938093  -9.856322                   NaN            0   \n",
              "1  34.698766  -2.147466              Zahanati            0   \n",
              "2  37.460664  -3.821329           Kwa Mahundi            0   \n",
              "3  38.486161 -11.155298  Zahanati Ya Nanyumbu            0   \n",
              "4  31.130847  -1.825359               Shuleni            0   \n",
              "\n",
              "                     basin  subvillage   region  region_code  district_code  \\\n",
              "0               Lake Nyasa    Mnyusi B   Iringa           11              5   \n",
              "1            Lake Victoria     Nyamara     Mara           20              2   \n",
              "2                  Pangani     Majengo  Manyara           21              4   \n",
              "3  Ruvuma / Southern Coast  Mahakamani   Mtwara           90             63   \n",
              "4            Lake Victoria  Kyanyamisa   Kagera           18              1   \n",
              "\n",
              "         lga        ward  population public_meeting              recorded_by  \\\n",
              "0     Ludewa    Mundindi         109           True  GeoData Consultants Ltd   \n",
              "1  Serengeti       Natta         280            NaN  GeoData Consultants Ltd   \n",
              "2  Simanjiro     Ngorika         250           True  GeoData Consultants Ltd   \n",
              "3   Nanyumbu    Nanyumbu          58           True  GeoData Consultants Ltd   \n",
              "4    Karagwe  Nyakasimbi           0           True  GeoData Consultants Ltd   \n",
              "\n",
              "  scheme_management                  scheme_name permit  construction_year  \\\n",
              "0               VWC                        Roman  False               1999   \n",
              "1             Other                          NaN   True               2010   \n",
              "2               VWC  Nyumba ya mungu pipe scheme   True               2009   \n",
              "3               VWC                          NaN   True               1986   \n",
              "4               NaN                          NaN   True               2004   \n",
              "\n",
              "  extraction_type extraction_type_group extraction_type_class management  \\\n",
              "0         gravity               gravity               gravity        vwc   \n",
              "1         gravity               gravity               gravity        wug   \n",
              "2         gravity               gravity               gravity        vwc   \n",
              "3     submersible           submersible           submersible        vwc   \n",
              "4         gravity               gravity               gravity      other   \n",
              "\n",
              "  management_group         payment payment_type water_quality quality_group  \\\n",
              "0       user-group    pay annually     annually          soft          good   \n",
              "1       user-group       never pay    never pay          soft          good   \n",
              "2       user-group  pay per bucket   per bucket          soft          good   \n",
              "3       user-group       never pay    never pay          soft          good   \n",
              "4            other       never pay    never pay          soft          good   \n",
              "\n",
              "       quantity quantity_group                source           source_type  \\\n",
              "0        enough         enough                spring                spring   \n",
              "1  insufficient   insufficient  rainwater harvesting  rainwater harvesting   \n",
              "2        enough         enough                   dam                   dam   \n",
              "3           dry            dry           machine dbh              borehole   \n",
              "4      seasonal       seasonal  rainwater harvesting  rainwater harvesting   \n",
              "\n",
              "  source_class              waterpoint_type waterpoint_type_group  \\\n",
              "0  groundwater           communal standpipe    communal standpipe   \n",
              "1      surface           communal standpipe    communal standpipe   \n",
              "2      surface  communal standpipe multiple    communal standpipe   \n",
              "3  groundwater  communal standpipe multiple    communal standpipe   \n",
              "4      surface           communal standpipe    communal standpipe   \n",
              "\n",
              "   funder_aleast_5  installer_aleast_5 wpt_name_character_grouping  \\\n",
              "0              1.0                 1.0                         NaN   \n",
              "1              1.0                 1.0                           z   \n",
              "2              1.0                 1.0                           k   \n",
              "3              1.0                 1.0                           z   \n",
              "4              0.0                 1.0                           s   \n",
              "\n",
              "  subvillage_character_grouping lga_engineered ward_character_grouping  \\\n",
              "0                             m          rural                       m   \n",
              "1                             n          rural                       n   \n",
              "2                             m          rural                       n   \n",
              "3                             m          rural                       n   \n",
              "4                             k          rural                       n   \n",
              "\n",
              "  scheme_name_character_grouping  age  year_recorded  month_recorded  \n",
              "0                              r   12           2011               3  \n",
              "1                            NaN    3           2013               3  \n",
              "2                              n    4           2013               2  \n",
              "3                            NaN   27           2013               1  \n",
              "4                            NaN    7           2011               7  "
            ]
          },
          "metadata": {
            "tags": []
          },
          "execution_count": 9
        }
      ]
    },
    {
      "metadata": {
        "id": "UTozD9Pf_8ZH",
        "colab_type": "code",
        "colab": {}
      },
      "cell_type": "code",
      "source": [
        "# Split data into train and test using k-fold cross-validation\n",
        "# with independent test data set.\n",
        "from sklearn.model_selection import train_test_split\n",
        "\n",
        "X_train, X_test, y_train, y_test = train_test_split(X, y, \n",
        "                                                    test_size=0.25,\n",
        "                                                    shuffle=True,\n",
        "                                                    random_state=42\n",
        "                                                   )"
      ],
      "execution_count": 0,
      "outputs": []
    },
    {
      "metadata": {
        "id": "Ikns6JusrwOW",
        "colab_type": "code",
        "colab": {
          "base_uri": "https://localhost:8080/",
          "height": 104
        },
        "outputId": "94f8437c-21a9-43b9-cff9-90267c8b598d"
      },
      "cell_type": "code",
      "source": [
        "# Get quick initial metrics estimate.\n",
        "\n",
        "# Using sklearn accuracy_score\n",
        "import numpy as np\n",
        "from sklearn.metrics import accuracy_score\n",
        "\n",
        "majority_class = y_train.mode()[0]\n",
        "prediction = np.full(shape=y_train.shape, \n",
        "                     fill_value=majority_class)\n",
        "\n",
        "print(f'accuracy score {accuracy_score(y_train, prediction)}')\n",
        "\n",
        "\n",
        "# Using simple pandas value counts method\n",
        "print(y_train.value_counts(normalize=True))"
      ],
      "execution_count": 11,
      "outputs": [
        {
          "output_type": "stream",
          "text": [
            "accuracy score 0.542334455667789\n",
            "functional                 0.542334\n",
            "non functional             0.384871\n",
            "functional needs repair    0.072795\n",
            "Name: status_group, dtype: float64\n"
          ],
          "name": "stdout"
        }
      ]
    },
    {
      "metadata": {
        "id": "8HifL8OexTSs",
        "colab_type": "code",
        "colab": {}
      },
      "cell_type": "code",
      "source": [
        "# Data pre-processing, Feature selection and Model selection.\n",
        "\n",
        "# Imports for pipeline\n",
        "from sklearn.pipeline import make_pipeline\n",
        "\n",
        "import category_encoders as ce\n",
        "from sklearn.preprocessing import RobustScaler\n",
        "from xgboost import XGBClassifier\n",
        "from sklearn.model_selection import GridSearchCV"
      ],
      "execution_count": 0,
      "outputs": []
    },
    {
      "metadata": {
        "id": "_FUTW1lf94_m",
        "colab_type": "code",
        "colab": {}
      },
      "cell_type": "code",
      "source": [
        "# Create pipeline\n",
        "pipeline = make_pipeline(\\\n",
        "                         ce.BinaryEncoder(),\n",
        "                         RobustScaler(),\n",
        "                         XGBClassifier(learning_rate=0.1, n_estimators=1000,\n",
        "                                       max_depth=4, min_child_weight=6,\n",
        "                                       gamma=0, subsample=0.8,\n",
        "                                       colsample_bytree=0.8,\n",
        "                                       objective= 'multi:softmax', num_class=3,\n",
        "                                       scale_pos_weight=1,\n",
        "                                       seed=42, n_jobs=4))"
      ],
      "execution_count": 0,
      "outputs": []
    },
    {
      "metadata": {
        "id": "LOhMkTAy99Ge",
        "colab_type": "code",
        "colab": {}
      },
      "cell_type": "code",
      "source": [
        "# Model validation. \n",
        "\n",
        "param_grid = {\n",
        "    'xgbclassifier__max_depth': range(3, 10, 2),\n",
        "    'xgbclassifier__min_child_weight': range(1, 6, 2)\n",
        "}\n",
        "\n",
        "gridsearch1 = GridSearchCV(pipeline, param_grid=param_grid, cv=2, \n",
        "                         scoring='accuracy', verbose=20)\n",
        "\n",
        "gridsearch1.fit(X_train, y_train)"
      ],
      "execution_count": 0,
      "outputs": []
    },
    {
      "metadata": {
        "id": "426lM6bh-Ady",
        "colab_type": "code",
        "colab": {}
      },
      "cell_type": "code",
      "source": [
        "# Interpret the results.\n",
        "\n",
        "# Best cross validation score\n",
        "print('Cross Validation Score:', gridsearch1.best_score_)\n",
        "\n",
        "# Best parameters which resulted in the best score\n",
        "print('Best Parameters:', gridsearch1.best_params_)"
      ],
      "execution_count": 0,
      "outputs": []
    },
    {
      "metadata": {
        "id": "C_SwA6hpNNLQ",
        "colab_type": "text"
      },
      "cell_type": "markdown",
      "source": [
        "**Output from 1st Iteration of parameter tuning.**\n",
        "\n",
        "Cross Validation Score: 0.7924354657687991\n",
        "\n",
        "Best Parameters: {'xgbclassifier__max_depth': 5, 'xgbclassifier__min_child_weight': 1}"
      ]
    },
    {
      "metadata": {
        "id": "Wui1ehwqMpAd",
        "colab_type": "code",
        "colab": {}
      },
      "cell_type": "code",
      "source": [
        "# Iteration 2 of Hyper-parameter tuning reconfirming the boundary\n",
        "param_grid2 = {\n",
        "    'xgbclassifier__max_depth': [4, 5, 6],\n",
        "    'xgbclassifier__min_child_weight': [1, 2]\n",
        "}\n",
        "\n",
        "gridsearch2 = GridSearchCV(pipeline, param_grid=param_grid2, cv=2, \n",
        "                         scoring='accuracy', verbose=20)\n",
        "\n",
        "gridsearch2.fit(X_train, y_train)"
      ],
      "execution_count": 0,
      "outputs": []
    },
    {
      "metadata": {
        "id": "KtO8hLqcYApU",
        "colab_type": "code",
        "colab": {}
      },
      "cell_type": "code",
      "source": [
        "# Interpret the results of Iteration 2\n",
        "\n",
        "# Best cross validation score\n",
        "print('Cross Validation Score:', gridsearch2.best_score_)\n",
        "\n",
        "# Best parameters which resulted in the best score\n",
        "print('Best Parameters:', gridsearch2.best_params_)"
      ],
      "execution_count": 0,
      "outputs": []
    },
    {
      "metadata": {
        "id": "pTBunUDZhPyB",
        "colab_type": "text"
      },
      "cell_type": "markdown",
      "source": [
        "**Output from 2nd Iteration of parameter tuning.**\n",
        "\n",
        "Cross Validation Score: 0.793625140291807\n",
        "\n",
        "Best Parameters: {'xgbclassifier__max_depth': 6, 'xgbclassifier__min_child_weight': 1}"
      ]
    },
    {
      "metadata": {
        "id": "85bwR2yXhjDa",
        "colab_type": "code",
        "colab": {}
      },
      "cell_type": "code",
      "source": [
        "# Iteration 3 of Hyper-parameter tuning reconfirming max_depth\n",
        "param_grid3 = {\n",
        "    'xgbclassifier__max_depth': [5, 6, 7],\n",
        "    'xgbclassifier__min_child_weight': [1]\n",
        "}\n",
        "\n",
        "gridsearch3 = GridSearchCV(pipeline, param_grid=param_grid3, cv=2, \n",
        "                         scoring='accuracy', verbose=20)\n",
        "\n",
        "gridsearch3.fit(X_train, y_train)"
      ],
      "execution_count": 0,
      "outputs": []
    },
    {
      "metadata": {
        "id": "lf8w7Pp6iQPD",
        "colab_type": "code",
        "colab": {}
      },
      "cell_type": "code",
      "source": [
        "# Interpret the results of Iteration 3\n",
        "\n",
        "# Best cross validation score\n",
        "print('Cross Validation Score:', gridsearch3.best_score_)\n",
        "\n",
        "# Best parameters which resulted in the best score\n",
        "print('Best Parameters:', gridsearch3.best_params_)"
      ],
      "execution_count": 0,
      "outputs": []
    },
    {
      "metadata": {
        "id": "Fnaa4jJ-tuGt",
        "colab_type": "text"
      },
      "cell_type": "markdown",
      "source": [
        "**Output from 3rd Iteration of parameter tuning.**\n",
        "\n",
        "Cross Validation Score: 0.793625140291807\n",
        "\n",
        "Best Parameters: {'xgbclassifier__max_depth': 6, 'xgbclassifier__min_child_weight': 1}"
      ]
    },
    {
      "metadata": {
        "id": "aA1OSuPht2Uo",
        "colab_type": "code",
        "colab": {}
      },
      "cell_type": "code",
      "source": [
        "# Iteration 4 of Hyper-parameter tuning gamma\n",
        "\n",
        "param_grid4 = {\n",
        "    'xgbclassifier__max_depth': [6],\n",
        "    'xgbclassifier__min_child_weight': [1],\n",
        "    'xgbclassifier__gamma': [i/10.0 for i in range(0,5)]\n",
        "}\n",
        "\n",
        "gridsearch4 = GridSearchCV(pipeline, param_grid=param_grid4, cv=2, \n",
        "                         scoring='accuracy', verbose=20)\n",
        "\n",
        "gridsearch4.fit(X_train, y_train)"
      ],
      "execution_count": 0,
      "outputs": []
    },
    {
      "metadata": {
        "id": "jaLk2YKlutwM",
        "colab_type": "code",
        "colab": {}
      },
      "cell_type": "code",
      "source": [
        "# Interpret the results of Iteration 4\n",
        "\n",
        "# Best cross validation score\n",
        "print('Cross Validation Score:', gridsearch4.best_score_)\n",
        "\n",
        "# Best parameters which resulted in the best score\n",
        "print('Best Parameters:', gridsearch4.best_params_)"
      ],
      "execution_count": 0,
      "outputs": []
    },
    {
      "metadata": {
        "id": "KSq5aBi2_n32",
        "colab_type": "text"
      },
      "cell_type": "markdown",
      "source": [
        "**Output from 4th Iteration of parameter tuning.**\n",
        "\n",
        "Cross Validation Score: 0.793625140291807\n",
        "\n",
        "Best Parameters: {'xgbclassifier__gamma': 0.0, 'xgbclassifier__max_depth': 6, 'xgbclassifier__min_child_weight': 1}"
      ]
    },
    {
      "metadata": {
        "id": "Uo8Mzy5k_uy_",
        "colab_type": "code",
        "colab": {}
      },
      "cell_type": "code",
      "source": [
        "# Iteration 5 of Hyper-parameter tuning learning_rate\n",
        "\n",
        "param_grid5 = {\n",
        "    'xgbclassifier__max_depth': [6],\n",
        "    'xgbclassifier__min_child_weight': [1],\n",
        "    'xgbclassifier__gamma': [0.0],\n",
        "    'xgbclassifier__learning_rate': [0.1, 0.2, 0.3, 0.5]\n",
        "}\n",
        "\n",
        "gridsearch5 = GridSearchCV(pipeline, param_grid=param_grid5, cv=2, \n",
        "                         scoring='accuracy', verbose=20)\n",
        "\n",
        "gridsearch5.fit(X_train, y_train)"
      ],
      "execution_count": 0,
      "outputs": []
    },
    {
      "metadata": {
        "id": "AnTEv0gHAvG1",
        "colab_type": "code",
        "colab": {}
      },
      "cell_type": "code",
      "source": [
        "# Interpret the results of Iteration 5\n",
        "\n",
        "# Best cross validation score\n",
        "print('Cross Validation Score:', gridsearch5.best_score_)\n",
        "\n",
        "# Best parameters which resulted in the best score\n",
        "print('Best Parameters:', gridsearch5.best_params_)"
      ],
      "execution_count": 0,
      "outputs": []
    },
    {
      "metadata": {
        "id": "SE6amf308kUo",
        "colab_type": "text"
      },
      "cell_type": "markdown",
      "source": [
        "**Output from 5th Iteration of parameter tuning.**\n",
        "\n",
        "Cross Validation Score: 0.793625140291807\n",
        "\n",
        "Best Parameters: {'xgbclassifier__gamma': 0.0, 'xgbclassifier__learning_rate': 0.1, 'xgbclassifier__max_depth': 6, 'xgbclassifier__min_child_weight': 1}"
      ]
    },
    {
      "metadata": {
        "id": "EWbvT5s5-LpQ",
        "colab_type": "code",
        "colab": {
          "base_uri": "https://localhost:8080/",
          "height": 679
        },
        "outputId": "e747beb1-5b1f-4af8-b900-2c205cbf73af"
      },
      "cell_type": "code",
      "source": [
        "# Iteration 6 of Hyper-parameter tuning learning_rate with values less than 0.1\n",
        "\n",
        "param_grid6 = {\n",
        "    'xgbclassifier__max_depth': [6],\n",
        "    'xgbclassifier__min_child_weight': [1],\n",
        "    'xgbclassifier__gamma': [0.0],\n",
        "    'xgbclassifier__learning_rate': [0.0001, 0.001, 0.01, 0.1]\n",
        "}\n",
        "\n",
        "gridsearch6 = GridSearchCV(pipeline, param_grid=param_grid6, cv=2, \n",
        "                         scoring='accuracy', verbose=20)\n",
        "\n",
        "gridsearch6.fit(X_train, y_train)"
      ],
      "execution_count": 22,
      "outputs": [
        {
          "output_type": "stream",
          "text": [
            "Fitting 2 folds for each of 4 candidates, totalling 8 fits\n",
            "[CV] xgbclassifier__gamma=0.0, xgbclassifier__learning_rate=0.0001, xgbclassifier__max_depth=6, xgbclassifier__min_child_weight=1 \n"
          ],
          "name": "stdout"
        },
        {
          "output_type": "stream",
          "text": [
            "[Parallel(n_jobs=1)]: Using backend SequentialBackend with 1 concurrent workers.\n"
          ],
          "name": "stderr"
        },
        {
          "output_type": "stream",
          "text": [
            "[CV]  xgbclassifier__gamma=0.0, xgbclassifier__learning_rate=0.0001, xgbclassifier__max_depth=6, xgbclassifier__min_child_weight=1, score=0.7345124797988867, total= 6.1min\n",
            "[CV] xgbclassifier__gamma=0.0, xgbclassifier__learning_rate=0.0001, xgbclassifier__max_depth=6, xgbclassifier__min_child_weight=1 \n"
          ],
          "name": "stdout"
        },
        {
          "output_type": "stream",
          "text": [
            "[Parallel(n_jobs=1)]: Done   1 out of   1 | elapsed:  6.2min remaining:    0.0s\n"
          ],
          "name": "stderr"
        },
        {
          "output_type": "stream",
          "text": [
            "[CV]  xgbclassifier__gamma=0.0, xgbclassifier__learning_rate=0.0001, xgbclassifier__max_depth=6, xgbclassifier__min_child_weight=1, score=0.7320642902038251, total= 6.1min\n",
            "[CV] xgbclassifier__gamma=0.0, xgbclassifier__learning_rate=0.001, xgbclassifier__max_depth=6, xgbclassifier__min_child_weight=1 \n"
          ],
          "name": "stdout"
        },
        {
          "output_type": "stream",
          "text": [
            "[Parallel(n_jobs=1)]: Done   2 out of   2 | elapsed: 12.4min remaining:    0.0s\n"
          ],
          "name": "stderr"
        },
        {
          "output_type": "stream",
          "text": [
            "[CV]  xgbclassifier__gamma=0.0, xgbclassifier__learning_rate=0.001, xgbclassifier__max_depth=6, xgbclassifier__min_child_weight=1, score=0.7396749865325911, total= 6.1min\n",
            "[CV] xgbclassifier__gamma=0.0, xgbclassifier__learning_rate=0.001, xgbclassifier__max_depth=6, xgbclassifier__min_child_weight=1 \n"
          ],
          "name": "stdout"
        },
        {
          "output_type": "stream",
          "text": [
            "[Parallel(n_jobs=1)]: Done   3 out of   3 | elapsed: 18.6min remaining:    0.0s\n"
          ],
          "name": "stderr"
        },
        {
          "output_type": "stream",
          "text": [
            "[CV]  xgbclassifier__gamma=0.0, xgbclassifier__learning_rate=0.001, xgbclassifier__max_depth=6, xgbclassifier__min_child_weight=1, score=0.7382149591451918, total= 6.1min\n",
            "[CV] xgbclassifier__gamma=0.0, xgbclassifier__learning_rate=0.01, xgbclassifier__max_depth=6, xgbclassifier__min_child_weight=1 \n"
          ],
          "name": "stdout"
        },
        {
          "output_type": "stream",
          "text": [
            "[Parallel(n_jobs=1)]: Done   4 out of   4 | elapsed: 24.8min remaining:    0.0s\n"
          ],
          "name": "stderr"
        },
        {
          "output_type": "stream",
          "text": [
            "[CV]  xgbclassifier__gamma=0.0, xgbclassifier__learning_rate=0.01, xgbclassifier__max_depth=6, xgbclassifier__min_child_weight=1, score=0.7769797091039684, total= 6.1min\n",
            "[CV] xgbclassifier__gamma=0.0, xgbclassifier__learning_rate=0.01, xgbclassifier__max_depth=6, xgbclassifier__min_child_weight=1 \n"
          ],
          "name": "stdout"
        },
        {
          "output_type": "stream",
          "text": [
            "[Parallel(n_jobs=1)]: Done   5 out of   5 | elapsed: 31.0min remaining:    0.0s\n"
          ],
          "name": "stderr"
        },
        {
          "output_type": "stream",
          "text": [
            "[CV]  xgbclassifier__gamma=0.0, xgbclassifier__learning_rate=0.01, xgbclassifier__max_depth=6, xgbclassifier__min_child_weight=1, score=0.7779473825985453, total= 6.1min\n",
            "[CV] xgbclassifier__gamma=0.0, xgbclassifier__learning_rate=0.1, xgbclassifier__max_depth=6, xgbclassifier__min_child_weight=1 \n"
          ],
          "name": "stdout"
        },
        {
          "output_type": "stream",
          "text": [
            "[Parallel(n_jobs=1)]: Done   6 out of   6 | elapsed: 37.2min remaining:    0.0s\n"
          ],
          "name": "stderr"
        },
        {
          "output_type": "stream",
          "text": [
            "[CV]  xgbclassifier__gamma=0.0, xgbclassifier__learning_rate=0.1, xgbclassifier__max_depth=6, xgbclassifier__min_child_weight=1, score=0.7935446220147244, total= 6.0min\n",
            "[CV] xgbclassifier__gamma=0.0, xgbclassifier__learning_rate=0.1, xgbclassifier__max_depth=6, xgbclassifier__min_child_weight=1 \n"
          ],
          "name": "stdout"
        },
        {
          "output_type": "stream",
          "text": [
            "[Parallel(n_jobs=1)]: Done   7 out of   7 | elapsed: 43.2min remaining:    0.0s\n"
          ],
          "name": "stderr"
        },
        {
          "output_type": "stream",
          "text": [
            "[CV]  xgbclassifier__gamma=0.0, xgbclassifier__learning_rate=0.1, xgbclassifier__max_depth=6, xgbclassifier__min_child_weight=1, score=0.7937056657986891, total= 6.0min\n"
          ],
          "name": "stdout"
        },
        {
          "output_type": "stream",
          "text": [
            "[Parallel(n_jobs=1)]: Done   8 out of   8 | elapsed: 49.3min remaining:    0.0s\n",
            "[Parallel(n_jobs=1)]: Done   8 out of   8 | elapsed: 49.3min finished\n"
          ],
          "name": "stderr"
        },
        {
          "output_type": "execute_result",
          "data": {
            "text/plain": [
              "GridSearchCV(cv=2, error_score='raise-deprecating',\n",
              "       estimator=Pipeline(memory=None,\n",
              "     steps=[('binaryencoder', BinaryEncoder(cols=None, drop_invariant=False, handle_unknown='impute',\n",
              "       impute_missing=True, return_df=True, verbose=0)), ('robustscaler', RobustScaler(copy=True, quantile_range=(25.0, 75.0), with_centering=True,\n",
              "       with_scaling=True)), ('xgbclassifier', XGBClassi...tate=0, reg_alpha=0, reg_lambda=1, scale_pos_weight=1,\n",
              "       seed=42, silent=True, subsample=0.8))]),\n",
              "       fit_params=None, iid='warn', n_jobs=None,\n",
              "       param_grid={'xgbclassifier__max_depth': [6], 'xgbclassifier__min_child_weight': [1], 'xgbclassifier__gamma': [0.0], 'xgbclassifier__learning_rate': [0.0001, 0.001, 0.01, 0.1]},\n",
              "       pre_dispatch='2*n_jobs', refit=True, return_train_score='warn',\n",
              "       scoring='accuracy', verbose=20)"
            ]
          },
          "metadata": {
            "tags": []
          },
          "execution_count": 22
        }
      ]
    },
    {
      "metadata": {
        "id": "_cimA8uG-eK_",
        "colab_type": "code",
        "colab": {
          "base_uri": "https://localhost:8080/",
          "height": 72
        },
        "outputId": "a3b64068-4cd9-4fcc-9834-5167ffec56c2"
      },
      "cell_type": "code",
      "source": [
        "# Interpret the results of Iteration 6\n",
        "\n",
        "# Best cross validation score\n",
        "print('Cross Validation Score:', gridsearch6.best_score_)\n",
        "\n",
        "# Best parameters which resulted in the best score\n",
        "print('Best Parameters:', gridsearch6.best_params_)"
      ],
      "execution_count": 23,
      "outputs": [
        {
          "output_type": "stream",
          "text": [
            "Cross Validation Score: 0.793625140291807\n",
            "Best Parameters: {'xgbclassifier__gamma': 0.0, 'xgbclassifier__learning_rate': 0.1, 'xgbclassifier__max_depth': 6, 'xgbclassifier__min_child_weight': 1}\n"
          ],
          "name": "stdout"
        }
      ]
    },
    {
      "metadata": {
        "id": "s7z-_74FNynK",
        "colab_type": "text"
      },
      "cell_type": "markdown",
      "source": [
        "**Output from 6th Iteration of parameter tuning.**\n",
        "\n",
        "Cross Validation Score: 0.793625140291807\n",
        "\n",
        "Best Parameters: {'xgbclassifier__gamma': 0.0, 'xgbclassifier__learning_rate': 0.1, 'xgbclassifier__max_depth': 6, 'xgbclassifier__min_child_weight': 1}"
      ]
    },
    {
      "metadata": {
        "id": "Z21cnpwJ-Dau",
        "colab_type": "code",
        "outputId": "cc23f3c8-66a9-4a40-9433-f1586d42db32",
        "colab": {
          "base_uri": "https://localhost:8080/",
          "height": 35
        }
      },
      "cell_type": "code",
      "source": [
        "#Get the best model and check it against test data set.\n",
        "\n",
        "# Predict with X_test features\n",
        "y_pred = gridsearch6.predict(X_test)\n",
        "\n",
        "# Compare predictions to y_test labels\n",
        "test_score = accuracy_score(y_test, y_pred)\n",
        "print('Accuracy Score on test data set:', test_score)"
      ],
      "execution_count": 26,
      "outputs": [
        {
          "output_type": "stream",
          "text": [
            "Accuracy Score on test data set: 0.8066666666666666\n"
          ],
          "name": "stdout"
        }
      ]
    },
    {
      "metadata": {
        "id": "kGmGyZAi-HQv",
        "colab_type": "code",
        "colab": {}
      },
      "cell_type": "code",
      "source": [
        "test_features_df = pd.read_csv('test_features.csv', na_values=nan_values_list)\n",
        "feature_engineering(test_features_df)\n",
        "\n",
        "X_submission = test_features_df.drop(columns =['id', 'funder', 'installer', 'wpt_name', 'subvillage', \n",
        "                                    'lga','ward','scheme_name'])\n",
        "\n",
        "# Predict with X_submission features\n",
        "y_submission = gridsearch5.predict(X_submission)\n",
        "\n",
        "y_submission_df = pd.DataFrame(y_submission, columns=['status_group'])\n",
        "output_for_submission = test_features_df.join(y_submission_df).loc[:, ['id','status_group']]"
      ],
      "execution_count": 0,
      "outputs": []
    },
    {
      "metadata": {
        "id": "ahroY1is-LRR",
        "colab_type": "code",
        "outputId": "431da883-cc9b-4694-a8f9-bfbcffc96f0a",
        "colab": {
          "base_uri": "https://localhost:8080/",
          "height": 202
        }
      },
      "cell_type": "code",
      "source": [
        "output_for_submission.head()"
      ],
      "execution_count": 19,
      "outputs": [
        {
          "output_type": "execute_result",
          "data": {
            "text/html": [
              "<div>\n",
              "<style scoped>\n",
              "    .dataframe tbody tr th:only-of-type {\n",
              "        vertical-align: middle;\n",
              "    }\n",
              "\n",
              "    .dataframe tbody tr th {\n",
              "        vertical-align: top;\n",
              "    }\n",
              "\n",
              "    .dataframe thead th {\n",
              "        text-align: right;\n",
              "    }\n",
              "</style>\n",
              "<table border=\"1\" class=\"dataframe\">\n",
              "  <thead>\n",
              "    <tr style=\"text-align: right;\">\n",
              "      <th></th>\n",
              "      <th>id</th>\n",
              "      <th>status_group</th>\n",
              "    </tr>\n",
              "  </thead>\n",
              "  <tbody>\n",
              "    <tr>\n",
              "      <th>0</th>\n",
              "      <td>50785</td>\n",
              "      <td>non functional</td>\n",
              "    </tr>\n",
              "    <tr>\n",
              "      <th>1</th>\n",
              "      <td>51630</td>\n",
              "      <td>functional</td>\n",
              "    </tr>\n",
              "    <tr>\n",
              "      <th>2</th>\n",
              "      <td>17168</td>\n",
              "      <td>functional</td>\n",
              "    </tr>\n",
              "    <tr>\n",
              "      <th>3</th>\n",
              "      <td>45559</td>\n",
              "      <td>non functional</td>\n",
              "    </tr>\n",
              "    <tr>\n",
              "      <th>4</th>\n",
              "      <td>49871</td>\n",
              "      <td>functional</td>\n",
              "    </tr>\n",
              "  </tbody>\n",
              "</table>\n",
              "</div>"
            ],
            "text/plain": [
              "      id    status_group\n",
              "0  50785  non functional\n",
              "1  51630      functional\n",
              "2  17168      functional\n",
              "3  45559  non functional\n",
              "4  49871      functional"
            ]
          },
          "metadata": {
            "tags": []
          },
          "execution_count": 19
        }
      ]
    },
    {
      "metadata": {
        "id": "gaXDKW3w-Nn9",
        "colab_type": "code",
        "outputId": "ac3cbd8d-1d12-4e69-8179-6d648baba4c9",
        "colab": {
          "base_uri": "https://localhost:8080/",
          "height": 104
        }
      },
      "cell_type": "code",
      "source": [
        "print(output_for_submission.status_group.value_counts())\n",
        "print(output_for_submission.shape)"
      ],
      "execution_count": 28,
      "outputs": [
        {
          "output_type": "stream",
          "text": [
            "functional                 8614\n",
            "non functional             5132\n",
            "functional needs repair     612\n",
            "Name: status_group, dtype: int64\n",
            "(14358, 2)\n"
          ],
          "name": "stdout"
        }
      ]
    },
    {
      "metadata": {
        "id": "ZT4yRwcE-cLr",
        "colab_type": "code",
        "colab": {}
      },
      "cell_type": "code",
      "source": [
        "print(output_for_submission.to_csv(index=False))"
      ],
      "execution_count": 0,
      "outputs": []
    }
  ]
}